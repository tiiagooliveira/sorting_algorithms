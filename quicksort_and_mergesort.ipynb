{
  "nbformat": 4,
  "nbformat_minor": 0,
  "metadata": {
    "colab": {
      "name": "quicksort_and_mergesort.ipynb",
      "provenance": [],
      "collapsed_sections": []
    },
    "kernelspec": {
      "name": "python3",
      "display_name": "Python 3"
    }
  },
  "cells": [
    {
      "cell_type": "code",
      "metadata": {
        "id": "ZpBBWf65ccMk",
        "colab_type": "code",
        "colab": {}
      },
      "source": [
        "def partition(arr,low,high):\n",
        " \n",
        "    mid= (low+high)//2\n",
        "  \n",
        "    if arr[mid] > arr[low]  and arr[mid] < arr[high]:\n",
        "      pivot= mid\n",
        "    elif arr[low] > arr[mid]  and arr[low] < arr[high]:\n",
        "      pivot= low\n",
        "    else:\n",
        "      pivot= high\n",
        "    \n",
        "    pivotValue= arr[pivot]\n",
        "    \n",
        "    arr[low],arr[pivot]=arr[pivot],arr[low]\n",
        "    \n",
        "    border=low\n",
        "    \n",
        "    \n",
        "    for i in range(low,high+1):\n",
        "    \n",
        "      if arr[i] < pivotValue:    \n",
        "        \n",
        "        border +=1\n",
        "        \n",
        "        arr[i],arr[border]=arr[border],arr[i]\n",
        "       \n",
        "        \n",
        "     \n",
        "    arr[border],arr[low]=arr[low],arr[border]\n",
        "    \n",
        "    return border\n",
        "     \n",
        "\n",
        "def quickSort(arr,low,high):\n",
        "\n",
        "  if low < high:\n",
        "    \n",
        "    p = partition(arr,low, high)\n",
        "    \n",
        "    quickSort(arr,low,p-1)\n",
        "    quickSort(arr,p+1,high)"
      ],
      "execution_count": 0,
      "outputs": []
    },
    {
      "cell_type": "code",
      "metadata": {
        "id": "GGb6xbX48JLb",
        "colab_type": "code",
        "colab": {}
      },
      "source": [
        "def mergeSort(arr):\n",
        "    #print(\"Splitting \",arr)\n",
        "    if len(arr)>1:\n",
        "        mid = len(arr)//2\n",
        "        lefthalf = arr[:mid]\n",
        "        righthalf = arr[mid:]\n",
        "\n",
        "        mergeSort(lefthalf)\n",
        "        mergeSort(righthalf)\n",
        "\n",
        "        i=0\n",
        "        j=0\n",
        "        k=0\n",
        "        while i < len(lefthalf) and j < len(righthalf):\n",
        "            if lefthalf[i] <= righthalf[j]:\n",
        "                arr[k]=lefthalf[i]\n",
        "                i=i+1\n",
        "            else:\n",
        "                arr[k]=righthalf[j]\n",
        "                j=j+1\n",
        "            k=k+1\n",
        "\n",
        "        while i < len(lefthalf):\n",
        "            arr[k]=lefthalf[i]\n",
        "            i=i+1\n",
        "            k=k+1\n",
        "\n",
        "        while j < len(righthalf):\n",
        "            arr[k]=righthalf[j]\n",
        "            j=j+1\n",
        "            k=k+1\n",
        "    #print(\"Merging \",arr)"
      ],
      "execution_count": 0,
      "outputs": []
    },
    {
      "cell_type": "code",
      "metadata": {
        "id": "kYIcGeczch7R",
        "colab_type": "code",
        "outputId": "a6dece55-8611-4beb-d099-e70d7cee9c95",
        "colab": {
          "base_uri": "https://localhost:8080/",
          "height": 136
        }
      },
      "source": [
        "arr = [10, 7, 8, 9, 1, 5] \n",
        "n = len(arr) \n",
        "quickSort(arr,0,n-1) \n",
        "print (\"Sorted array is:\") \n",
        "for i in range(n): \n",
        "    print (\"%d\" %arr[i]), "
      ],
      "execution_count": 5,
      "outputs": [
        {
          "output_type": "stream",
          "text": [
            "Sorted array is:\n",
            "1\n",
            "5\n",
            "7\n",
            "8\n",
            "9\n",
            "10\n"
          ],
          "name": "stdout"
        }
      ]
    },
    {
      "cell_type": "code",
      "metadata": {
        "id": "i51pbhc_XTrr",
        "colab_type": "code",
        "outputId": "73be7ccf-4db0-4de5-dd0e-6d36afba4e41",
        "colab": {
          "base_uri": "https://localhost:8080/",
          "height": 102
        }
      },
      "source": [
        "arr = [6,9,1, 5] \n",
        "n = len(arr) \n",
        "mergeSort(arr) \n",
        "print (\"Sorted array is:\") \n",
        "for i in range(n): \n",
        "    print (\"%d\" %arr[i]), "
      ],
      "execution_count": 8,
      "outputs": [
        {
          "output_type": "stream",
          "text": [
            "Sorted array is:\n",
            "1\n",
            "5\n",
            "6\n",
            "9\n"
          ],
          "name": "stdout"
        }
      ]
    }
  ]
}